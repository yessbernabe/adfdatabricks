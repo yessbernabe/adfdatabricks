{
 "cells": [
  {
   "cell_type": "code",
   "execution_count": 0,
   "metadata": {
    "application/vnd.databricks.v1+cell": {
     "cellMetadata": {
      "byteLimit": 2048000,
      "rowLimit": 10000
     },
     "inputWidgets": {},
     "nuid": "1eaf4c82-6443-41ce-ab73-4c010fd4b3b7",
     "showTitle": false,
     "tableResultSettingsMap": {},
     "title": ""
    }
   },
   "outputs": [],
   "source": [
    "drop table if exists telco_dev.gold.ingreso_por_cliente;\n",
    "CREATE TABLE telco_dev.gold.ingreso_por_cliente\n",
    "AS\n",
    "SELECT \n",
    "  C.nombre_completo,\n",
    "  sum(D.precio_mensual) as ingreso\n",
    "from telco_dev.silver.clientes C\n",
    "inner join telco_dev.silver.detalles D\n",
    "ON C.cliente_id = D.cliente_id\n",
    "where D.estado = true \n",
    "group by C.nombre_completo\n",
    "order by ingreso DESC\n",
    "\n",
    "--select * from telco_dev.gold.ingreso_por_cliente"
   ]
  },
  {
   "cell_type": "code",
   "execution_count": 0,
   "metadata": {
    "application/vnd.databricks.v1+cell": {
     "cellMetadata": {
      "byteLimit": 2048000,
      "rowLimit": 10000
     },
     "inputWidgets": {},
     "nuid": "3f5a729b-e6a4-4047-9263-dc78f5a03581",
     "showTitle": false,
     "tableResultSettingsMap": {},
     "title": ""
    }
   },
   "outputs": [],
   "source": [
    "select * from telco_dev.gold.ingreso_por_cliente;"
   ]
  }
 ],
 "metadata": {
  "application/vnd.databricks.v1+notebook": {
   "computePreferences": null,
   "dashboards": [],
   "environmentMetadata": {
    "base_environment": "",
    "environment_version": "2"
   },
   "inputWidgetPreferences": null,
   "language": "sql",
   "notebookMetadata": {
    "pythonIndentUnit": 4
   },
   "notebookName": "05. create gold tables",
   "widgets": {}
  },
  "language_info": {
   "name": "sql"
  }
 },
 "nbformat": 4,
 "nbformat_minor": 0
}
